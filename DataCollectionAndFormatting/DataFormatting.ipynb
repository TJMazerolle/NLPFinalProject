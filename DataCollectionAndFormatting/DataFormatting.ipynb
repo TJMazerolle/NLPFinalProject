{
 "cells": [
  {
   "cell_type": "code",
   "execution_count": 2,
   "metadata": {},
   "outputs": [],
   "source": [
    "import pandas as pd\n",
    "from nltk.corpus import stopwords, wordnet\n",
    "from collections import Counter"
   ]
  },
  {
   "cell_type": "code",
   "execution_count": 3,
   "metadata": {},
   "outputs": [
    {
     "data": {
      "text/html": [
       "<div>\n",
       "<style scoped>\n",
       "    .dataframe tbody tr th:only-of-type {\n",
       "        vertical-align: middle;\n",
       "    }\n",
       "\n",
       "    .dataframe tbody tr th {\n",
       "        vertical-align: top;\n",
       "    }\n",
       "\n",
       "    .dataframe thead th {\n",
       "        text-align: right;\n",
       "    }\n",
       "</style>\n",
       "<table border=\"1\" class=\"dataframe\">\n",
       "  <thead>\n",
       "    <tr style=\"text-align: right;\">\n",
       "      <th></th>\n",
       "      <th>Link</th>\n",
       "      <th>Date</th>\n",
       "      <th>Text</th>\n",
       "      <th>Sentiments</th>\n",
       "      <th>Scores</th>\n",
       "    </tr>\n",
       "  </thead>\n",
       "  <tbody>\n",
       "    <tr>\n",
       "      <th>0</th>\n",
       "      <td>https://www.investing.com/news/stock-market-ne...</td>\n",
       "      <td>2023-12-04</td>\n",
       "      <td>Company OverviewEnphase Energy, Inc. (NASDAQ:E...</td>\n",
       "      <td>4 stars</td>\n",
       "      <td>0.339352</td>\n",
       "    </tr>\n",
       "    <tr>\n",
       "      <th>1</th>\n",
       "      <td>https://www.investing.com/news/stock-market-ne...</td>\n",
       "      <td>2023-12-04</td>\n",
       "      <td>SolarEdge Technologies (NASDAQ:SEDG) Inc. has ...</td>\n",
       "      <td>2 stars</td>\n",
       "      <td>0.396986</td>\n",
       "    </tr>\n",
       "    <tr>\n",
       "      <th>2</th>\n",
       "      <td>https://www.investing.com/news/stock-market-ne...</td>\n",
       "      <td>2023-12-04</td>\n",
       "      <td>In the dynamic world of technology, Apple Inc ...</td>\n",
       "      <td>4 stars</td>\n",
       "      <td>0.436993</td>\n",
       "    </tr>\n",
       "    <tr>\n",
       "      <th>3</th>\n",
       "      <td>https://www.investing.com/news/stock-market-ne...</td>\n",
       "      <td>2023-12-10</td>\n",
       "      <td>By Anirban Sen (Reuters) - U.S. health insurer...</td>\n",
       "      <td>1 star</td>\n",
       "      <td>0.412312</td>\n",
       "    </tr>\n",
       "    <tr>\n",
       "      <th>4</th>\n",
       "      <td>https://www.investing.com/news/stock-market-ne...</td>\n",
       "      <td>2023-12-04</td>\n",
       "      <td>In the dynamic landscape of software and digit...</td>\n",
       "      <td>5 stars</td>\n",
       "      <td>0.456715</td>\n",
       "    </tr>\n",
       "  </tbody>\n",
       "</table>\n",
       "</div>"
      ],
      "text/plain": [
       "                                                Link       Date   \n",
       "0  https://www.investing.com/news/stock-market-ne... 2023-12-04  \\\n",
       "1  https://www.investing.com/news/stock-market-ne... 2023-12-04   \n",
       "2  https://www.investing.com/news/stock-market-ne... 2023-12-04   \n",
       "3  https://www.investing.com/news/stock-market-ne... 2023-12-10   \n",
       "4  https://www.investing.com/news/stock-market-ne... 2023-12-04   \n",
       "\n",
       "                                                Text Sentiments    Scores  \n",
       "0  Company OverviewEnphase Energy, Inc. (NASDAQ:E...    4 stars  0.339352  \n",
       "1  SolarEdge Technologies (NASDAQ:SEDG) Inc. has ...    2 stars  0.396986  \n",
       "2  In the dynamic world of technology, Apple Inc ...    4 stars  0.436993  \n",
       "3  By Anirban Sen (Reuters) - U.S. health insurer...     1 star  0.412312  \n",
       "4  In the dynamic landscape of software and digit...    5 stars  0.456715  "
      ]
     },
     "metadata": {},
     "output_type": "display_data"
    },
    {
     "name": "stdout",
     "output_type": "stream",
     "text": [
      "<class 'pandas.core.frame.DataFrame'>\n",
      "Index: 1718 entries, 0 to 1717\n",
      "Data columns (total 5 columns):\n",
      " #   Column      Non-Null Count  Dtype         \n",
      "---  ------      --------------  -----         \n",
      " 0   Link        1718 non-null   object        \n",
      " 1   Date        1718 non-null   datetime64[ns]\n",
      " 2   Text        1718 non-null   object        \n",
      " 3   Sentiments  1718 non-null   object        \n",
      " 4   Scores      1718 non-null   float64       \n",
      "dtypes: datetime64[ns](1), float64(1), object(3)\n",
      "memory usage: 80.5+ KB\n"
     ]
    },
    {
     "data": {
      "text/plain": [
       "None"
      ]
     },
     "metadata": {},
     "output_type": "display_data"
    }
   ],
   "source": [
    "trainingArticles = pd.read_json(\"trainingArticles.json\")\n",
    "sentiments = pd.read_json(\"sentiments.json\")\n",
    "sentiment_of_articles = pd.concat([trainingArticles, sentiments], axis=1)\n",
    "display(sentiment_of_articles.head())\n",
    "display(sentiment_of_articles.info())"
   ]
  },
  {
   "cell_type": "code",
   "execution_count": 4,
   "metadata": {},
   "outputs": [
    {
     "data": {
      "text/html": [
       "<div>\n",
       "<style scoped>\n",
       "    .dataframe tbody tr th:only-of-type {\n",
       "        vertical-align: middle;\n",
       "    }\n",
       "\n",
       "    .dataframe tbody tr th {\n",
       "        vertical-align: top;\n",
       "    }\n",
       "\n",
       "    .dataframe thead th {\n",
       "        text-align: right;\n",
       "    }\n",
       "</style>\n",
       "<table border=\"1\" class=\"dataframe\">\n",
       "  <thead>\n",
       "    <tr style=\"text-align: right;\">\n",
       "      <th></th>\n",
       "      <th>Link</th>\n",
       "      <th>Date</th>\n",
       "      <th>Text</th>\n",
       "      <th>Sentiments</th>\n",
       "    </tr>\n",
       "  </thead>\n",
       "  <tbody>\n",
       "    <tr>\n",
       "      <th>0</th>\n",
       "      <td>https://www.investing.com/news/stock-market-ne...</td>\n",
       "      <td>2023-12-04</td>\n",
       "      <td>Company OverviewEnphase Energy, Inc. (NASDAQ:E...</td>\n",
       "      <td>NEUTRAL</td>\n",
       "    </tr>\n",
       "    <tr>\n",
       "      <th>1</th>\n",
       "      <td>https://www.investing.com/news/stock-market-ne...</td>\n",
       "      <td>2023-12-04</td>\n",
       "      <td>SolarEdge Technologies (NASDAQ:SEDG) Inc. has ...</td>\n",
       "      <td>NEUTRAL</td>\n",
       "    </tr>\n",
       "    <tr>\n",
       "      <th>2</th>\n",
       "      <td>https://www.investing.com/news/stock-market-ne...</td>\n",
       "      <td>2023-12-04</td>\n",
       "      <td>In the dynamic world of technology, Apple Inc ...</td>\n",
       "      <td>NEUTRAL</td>\n",
       "    </tr>\n",
       "    <tr>\n",
       "      <th>3</th>\n",
       "      <td>https://www.investing.com/news/stock-market-ne...</td>\n",
       "      <td>2023-12-10</td>\n",
       "      <td>By Anirban Sen (Reuters) - U.S. health insurer...</td>\n",
       "      <td>NEGATIVE</td>\n",
       "    </tr>\n",
       "    <tr>\n",
       "      <th>4</th>\n",
       "      <td>https://www.investing.com/news/stock-market-ne...</td>\n",
       "      <td>2023-12-04</td>\n",
       "      <td>In the dynamic landscape of software and digit...</td>\n",
       "      <td>POSITIVE</td>\n",
       "    </tr>\n",
       "  </tbody>\n",
       "</table>\n",
       "</div>"
      ],
      "text/plain": [
       "                                                Link       Date   \n",
       "0  https://www.investing.com/news/stock-market-ne... 2023-12-04  \\\n",
       "1  https://www.investing.com/news/stock-market-ne... 2023-12-04   \n",
       "2  https://www.investing.com/news/stock-market-ne... 2023-12-04   \n",
       "3  https://www.investing.com/news/stock-market-ne... 2023-12-10   \n",
       "4  https://www.investing.com/news/stock-market-ne... 2023-12-04   \n",
       "\n",
       "                                                Text Sentiments  \n",
       "0  Company OverviewEnphase Energy, Inc. (NASDAQ:E...    NEUTRAL  \n",
       "1  SolarEdge Technologies (NASDAQ:SEDG) Inc. has ...    NEUTRAL  \n",
       "2  In the dynamic world of technology, Apple Inc ...    NEUTRAL  \n",
       "3  By Anirban Sen (Reuters) - U.S. health insurer...   NEGATIVE  \n",
       "4  In the dynamic landscape of software and digit...   POSITIVE  "
      ]
     },
     "execution_count": 4,
     "metadata": {},
     "output_type": "execute_result"
    }
   ],
   "source": [
    "new_sentiments = []\n",
    "for sentiment in sentiment_of_articles[\"Sentiments\"]:\n",
    "    if sentiment == \"1 star\":\n",
    "        new_sentiments.append(\"NEGATIVE\")\n",
    "    elif sentiment == \"5 stars\":\n",
    "        new_sentiments.append(\"POSITIVE\")\n",
    "    # elif sentiment == \"4 stars\":\n",
    "    #     new_sentiments.append(\"POSITIVE\")\n",
    "    else:\n",
    "        new_sentiments.append(\"NEUTRAL\")\n",
    "\n",
    "sentiment_of_articles[\"Sentiments\"] = new_sentiments\n",
    "sentiment_of_articles = sentiment_of_articles.drop([\"Scores\"], axis = 1)\n",
    "sentiment_of_articles.head()"
   ]
  },
  {
   "cell_type": "code",
   "execution_count": 5,
   "metadata": {},
   "outputs": [
    {
     "name": "stdout",
     "output_type": "stream",
     "text": [
      "Class NEUTRAL: 999 instances\n",
      "Class NEGATIVE: 633 instances\n",
      "Class POSITIVE: 86 instances\n"
     ]
    }
   ],
   "source": [
    "class_counts = Counter(sentiment_of_articles[\"Sentiments\"])\n",
    "for class_label, count in class_counts.items():\n",
    "    print(f\"Class {class_label}: {count} instances\")"
   ]
  },
  {
   "cell_type": "code",
   "execution_count": 6,
   "metadata": {},
   "outputs": [],
   "source": [
    "sentiment_of_articles.to_json(\"sentimentsOfArticles.json\")"
   ]
  }
 ],
 "metadata": {
  "kernelspec": {
   "display_name": "CSCN8010_classic_ml",
   "language": "python",
   "name": "python3"
  },
  "language_info": {
   "codemirror_mode": {
    "name": "ipython",
    "version": 3
   },
   "file_extension": ".py",
   "mimetype": "text/x-python",
   "name": "python",
   "nbconvert_exporter": "python",
   "pygments_lexer": "ipython3",
   "version": "3.11.7"
  }
 },
 "nbformat": 4,
 "nbformat_minor": 2
}
