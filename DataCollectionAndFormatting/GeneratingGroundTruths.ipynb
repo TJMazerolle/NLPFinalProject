{
 "cells": [
  {
   "cell_type": "code",
   "execution_count": 38,
   "metadata": {},
   "outputs": [],
   "source": [
    "import pandas as pd\n",
    "from nltk.sentiment import SentimentIntensityAnalyzer\n",
    "from collections import Counter"
   ]
  },
  {
   "cell_type": "code",
   "execution_count": 39,
   "metadata": {},
   "outputs": [],
   "source": [
    "sid = SentimentIntensityAnalyzer()"
   ]
  },
  {
   "cell_type": "code",
   "execution_count": 40,
   "metadata": {},
   "outputs": [],
   "source": [
    "trainingArticles = pd.read_json(\"trainingArticles.json\")\n",
    "sentences = trainingArticles[\"Text\"]"
   ]
  },
  {
   "cell_type": "code",
   "execution_count": 41,
   "metadata": {},
   "outputs": [],
   "source": [
    "sentiments = []\n",
    "for sentence in sentences:\n",
    "    sentiment_scores = sid.polarity_scores(sentence)\n",
    "    if sentiment_scores['compound'] >= 0.99:\n",
    "        sentiments.append(\"POSITIVE\")\n",
    "    elif sentiment_scores['compound'] <= 0.90:\n",
    "        sentiments.append(\"NEGATIVE\")\n",
    "    else:\n",
    "        sentiments.append(\"NEUTRAL\")"
   ]
  },
  {
   "cell_type": "code",
   "execution_count": 42,
   "metadata": {},
   "outputs": [
    {
     "name": "stdout",
     "output_type": "stream",
     "text": [
      "Counter({'NEUTRAL': 655, 'NEGATIVE': 565, 'POSITIVE': 498})\n"
     ]
    }
   ],
   "source": [
    "counts = Counter(sentiments)\n",
    "print(counts)"
   ]
  },
  {
   "cell_type": "code",
   "execution_count": 43,
   "metadata": {},
   "outputs": [],
   "source": [
    "sentiments_dict = {\n",
    "    \"Sentiments\": sentiments\n",
    "}\n",
    "\n",
    "sentiments_df = pd.DataFrame(sentiments_dict)\n",
    "sentiments_df.to_json(\"sentiments.json\")"
   ]
  }
 ],
 "metadata": {
  "kernelspec": {
   "display_name": "CSCN8010_classic_ml",
   "language": "python",
   "name": "python3"
  },
  "language_info": {
   "codemirror_mode": {
    "name": "ipython",
    "version": 3
   },
   "file_extension": ".py",
   "mimetype": "text/x-python",
   "name": "python",
   "nbconvert_exporter": "python",
   "pygments_lexer": "ipython3",
   "version": "3.11.7"
  }
 },
 "nbformat": 4,
 "nbformat_minor": 2
}
