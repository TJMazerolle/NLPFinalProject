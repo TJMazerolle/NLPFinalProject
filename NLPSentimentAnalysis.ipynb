{
 "cells": [
  {
   "cell_type": "markdown",
   "metadata": {},
   "source": [
    "# CSCN 8245 - Foundations of Machine Learning\n",
    "# Final Project - Sentiment Analysis of Stock News Articles\n",
    "\n",
    "### By: Samiksha Rajpal (8908982) and Troy Mazerolle (8972394)"
   ]
  },
  {
   "cell_type": "markdown",
   "metadata": {},
   "source": [
    "## Introduction\n",
    "\n",
    "In this project, we want to develop a model that can apply sentiment analysis to stock market news.  To do this, we will use our scrapped news articles (see Appendix B for scrapping source and methodology) with ground truths generated from nltk.sentiment.SentimentIntensityAnalyzer() (see Appendix C for the code to generate ground truths).\n",
    "\n",
    "In this analysis we will test three feature representation methods: bag-of-words, TF-IDF, and word2vec.  All three methods will be trained on a gradient boosting classifier to evaluate the accuracy of the model that each feature representation method creates."
   ]
  },
  {
   "cell_type": "code",
   "execution_count": 66,
   "metadata": {},
   "outputs": [],
   "source": [
    "# Utility and Visualization Libraries\n",
    "import pandas as pd\n",
    "import numpy as np\n",
    "import string\n",
    "from collections import Counter\n",
    "import matplotlib.pyplot as plt\n",
    "\n",
    "# nltk Libraries\n",
    "import nltk\n",
    "from nltk.stem import WordNetLemmatizer\n",
    "from nltk.tokenize import word_tokenize\n",
    "from nltk.corpus import stopwords, wordnet\n",
    "\n",
    "# Sci Kit Learn Libraries\n",
    "from sklearn.model_selection import train_test_split\n",
    "from sklearn.metrics import accuracy_score, confusion_matrix, ConfusionMatrixDisplay\n",
    "from sklearn.ensemble import GradientBoostingClassifier\n",
    "from sklearn.naive_bayes import MultinomialNB\n",
    "from sklearn.svm import SVC\n",
    "from sklearn.ensemble import RandomForestClassifier\n",
    "\n",
    "# Feature Representation Libraries\n",
    "from sklearn.feature_extraction.text import CountVectorizer\n",
    "from sklearn.feature_extraction.text import TfidfVectorizer\n",
    "from gensim.models import Word2Vec\n",
    "\n",
    "# Set seed for Reproducibility\n",
    "rand = 42\n",
    "\n",
    "# Setting parameters to run code in appendicies. HIGHLY not recommended since doing so can mess up saved files, but option is available.\n",
    "run_appendix_A = False\n",
    "run_appendix_B = False\n",
    "run_appendix_C = False\n",
    "run_appendix_D = False"
   ]
  },
  {
   "cell_type": "markdown",
   "metadata": {},
   "source": [
    "Before continuing, we are going to write a function that will perform basic string cleaning and formatting.  This function is a slightly modified version of the function written by Troy for lab 8."
   ]
  },
  {
   "cell_type": "code",
   "execution_count": 67,
   "metadata": {},
   "outputs": [],
   "source": [
    "def string_formatter(input_string):\n",
    "\n",
    "    punctuation_list = list(string.punctuation)\n",
    "    \n",
    "    # Tokenize\n",
    "    token_list = word_tokenize(input_string) \n",
    "    # Remove Stop Words\n",
    "    # stop_words_removed = [word for word in token_list if word not in stopwords.words('english')] \n",
    "    # Remove Punctuation\n",
    "    stop_words_punctuation_removed = [word for word in token_list if word not in punctuation_list] \n",
    "    # Put to Lower Case\n",
    "    stop_words_punctuation_removed_case_folded = [word.lower() for word in stop_words_punctuation_removed] \n",
    "    # POS Tagged\n",
    "    pos_tagged_words = nltk.pos_tag(stop_words_punctuation_removed_case_folded)\n",
    "\n",
    "    # POS tags for wnl.lematize\n",
    "    new_tags = [\"\"] * len(pos_tagged_words)\n",
    "    for i in range(len(pos_tagged_words)):\n",
    "        if ((pos_tagged_words[i][1] == \"VB\") | (pos_tagged_words[i][1] == \"VBG\") |\n",
    "            (pos_tagged_words[i][1] == \"VBD\") | (pos_tagged_words[i][1] == \"VBN\") |\n",
    "            (pos_tagged_words[i][1] == \"VBP\") | (pos_tagged_words[i][1] == \"VBZ\")):\n",
    "            new_tags[i] = wordnet.VERB\n",
    "        elif ((pos_tagged_words[i][1] == \"JJ\") | (pos_tagged_words[i][1] == \"JJR\") |\n",
    "              (pos_tagged_words[i][1] == \"JJS\")):\n",
    "            new_tags[i] = wordnet.ADJ\n",
    "        elif ((pos_tagged_words[i][1] == \"RB\") | (pos_tagged_words[i][1] == \"RBR\") |\n",
    "              (pos_tagged_words[i][1] == \"RBS\") | (pos_tagged_words[i][1] == \"WRB\")):\n",
    "            new_tags[i] = wordnet.ADV\n",
    "        else:\n",
    "            new_tags[i] = wordnet.NOUN\n",
    "\n",
    "    # Lemmatization\n",
    "    wnl = WordNetLemmatizer()\n",
    "    lemma_words = [\"\"] * len(stop_words_punctuation_removed_case_folded)\n",
    "    for i in range(len(stop_words_punctuation_removed_case_folded)):\n",
    "        lemma_words[i] = wnl.lemmatize(stop_words_punctuation_removed_case_folded[i], pos = new_tags[i])\n",
    "\n",
    "    return \" \".join(lemma_words)"
   ]
  },
  {
   "cell_type": "markdown",
   "metadata": {},
   "source": [
    "Now we load in our data, and output the feature counts and some of the first few rows.  See Appendex C for more details on what constitutes as \"POSITIVE\", \"NEGATIVE\", and \"NEUTRAL\"."
   ]
  },
  {
   "cell_type": "code",
   "execution_count": 68,
   "metadata": {},
   "outputs": [
    {
     "name": "stdout",
     "output_type": "stream",
     "text": [
      "Counter({'NEUTRAL': 655, 'NEGATIVE': 565, 'POSITIVE': 498})\n"
     ]
    },
    {
     "data": {
      "text/html": [
       "<div>\n",
       "<style scoped>\n",
       "    .dataframe tbody tr th:only-of-type {\n",
       "        vertical-align: middle;\n",
       "    }\n",
       "\n",
       "    .dataframe tbody tr th {\n",
       "        vertical-align: top;\n",
       "    }\n",
       "\n",
       "    .dataframe thead th {\n",
       "        text-align: right;\n",
       "    }\n",
       "</style>\n",
       "<table border=\"1\" class=\"dataframe\">\n",
       "  <thead>\n",
       "    <tr style=\"text-align: right;\">\n",
       "      <th></th>\n",
       "      <th>Link</th>\n",
       "      <th>Date</th>\n",
       "      <th>Text</th>\n",
       "      <th>Sentiments</th>\n",
       "    </tr>\n",
       "  </thead>\n",
       "  <tbody>\n",
       "    <tr>\n",
       "      <th>0</th>\n",
       "      <td>https://www.investing.com/news/stock-market-ne...</td>\n",
       "      <td>2023-12-04</td>\n",
       "      <td>Company OverviewEnphase Energy, Inc. (NASDAQ:E...</td>\n",
       "      <td>POSITIVE</td>\n",
       "    </tr>\n",
       "    <tr>\n",
       "      <th>1</th>\n",
       "      <td>https://www.investing.com/news/stock-market-ne...</td>\n",
       "      <td>2023-12-04</td>\n",
       "      <td>SolarEdge Technologies (NASDAQ:SEDG) Inc. has ...</td>\n",
       "      <td>POSITIVE</td>\n",
       "    </tr>\n",
       "    <tr>\n",
       "      <th>2</th>\n",
       "      <td>https://www.investing.com/news/stock-market-ne...</td>\n",
       "      <td>2023-12-04</td>\n",
       "      <td>In the dynamic world of technology, Apple Inc ...</td>\n",
       "      <td>POSITIVE</td>\n",
       "    </tr>\n",
       "    <tr>\n",
       "      <th>3</th>\n",
       "      <td>https://www.investing.com/news/stock-market-ne...</td>\n",
       "      <td>2023-12-10</td>\n",
       "      <td>By Anirban Sen (Reuters) - U.S. health insurer...</td>\n",
       "      <td>POSITIVE</td>\n",
       "    </tr>\n",
       "    <tr>\n",
       "      <th>4</th>\n",
       "      <td>https://www.investing.com/news/stock-market-ne...</td>\n",
       "      <td>2023-12-04</td>\n",
       "      <td>In the dynamic landscape of software and digit...</td>\n",
       "      <td>POSITIVE</td>\n",
       "    </tr>\n",
       "  </tbody>\n",
       "</table>\n",
       "</div>"
      ],
      "text/plain": [
       "                                                Link       Date   \n",
       "0  https://www.investing.com/news/stock-market-ne... 2023-12-04  \\\n",
       "1  https://www.investing.com/news/stock-market-ne... 2023-12-04   \n",
       "2  https://www.investing.com/news/stock-market-ne... 2023-12-04   \n",
       "3  https://www.investing.com/news/stock-market-ne... 2023-12-10   \n",
       "4  https://www.investing.com/news/stock-market-ne... 2023-12-04   \n",
       "\n",
       "                                                Text Sentiments  \n",
       "0  Company OverviewEnphase Energy, Inc. (NASDAQ:E...   POSITIVE  \n",
       "1  SolarEdge Technologies (NASDAQ:SEDG) Inc. has ...   POSITIVE  \n",
       "2  In the dynamic world of technology, Apple Inc ...   POSITIVE  \n",
       "3  By Anirban Sen (Reuters) - U.S. health insurer...   POSITIVE  \n",
       "4  In the dynamic landscape of software and digit...   POSITIVE  "
      ]
     },
     "metadata": {},
     "output_type": "display_data"
    }
   ],
   "source": [
    "sentimentsOfArticles = pd.read_json(\"DataCollectionAndFormatting/sentimentsOfArticles.json\")\n",
    "counts = Counter(sentimentsOfArticles[\"Sentiments\"])\n",
    "print(counts)\n",
    "display(sentimentsOfArticles.head())"
   ]
  },
  {
   "cell_type": "markdown",
   "metadata": {},
   "source": [
    "Next we format the text using the string_formatter() function we defined above.  You can see the before-and-after of each string by comparing the texts in the above table to the truncated texts in the output below."
   ]
  },
  {
   "cell_type": "code",
   "execution_count": 69,
   "metadata": {},
   "outputs": [
    {
     "name": "stdout",
     "output_type": "stream",
     "text": [
      "company overviewenphase energy inc. nasdaq enph a \n",
      "solaredge technology nasdaq sedg inc. have be navi\n",
      "in the dynamic world of technology apple inc nasda\n",
      "by anirban sen reuters u.s. health insurer cigna n\n"
     ]
    }
   ],
   "source": [
    "formatted_text = [string_formatter(article) for article in sentimentsOfArticles[\"Text\"]]\n",
    "for i in range(4):\n",
    "    print(formatted_text[i][:50]) # only output first 50 characters of article"
   ]
  },
  {
   "cell_type": "markdown",
   "metadata": {},
   "source": [
    "Lastly, we split the data into training and testing sets before moving on to model building."
   ]
  },
  {
   "cell_type": "code",
   "execution_count": 70,
   "metadata": {},
   "outputs": [],
   "source": [
    "X_train, X_test, y_train, y_test = train_test_split(formatted_text, sentimentsOfArticles[\"Sentiments\"], \n",
    "                                                    test_size = 0.2, random_state = rand)"
   ]
  },
  {
   "cell_type": "markdown",
   "metadata": {},
   "source": [
    "## Model 1: Bag-of-Words\n",
    "\n",
    "The bag-of-words (BoW) model is a text representation technique in natural language processing (NLP) that converts text data into numerical vectors for machine learning applications. It involves tokenizing a text into words, creating a vocabulary, and constructing a document-term matrix where each row represents a document, and each column corresponds to a unique word in the vocabulary, with entries indicating word frequencies. \n",
    "\n",
    "First we will create the bag-of-words feature representation."
   ]
  },
  {
   "cell_type": "code",
   "execution_count": 71,
   "metadata": {},
   "outputs": [],
   "source": [
    "bow_vectorizer = CountVectorizer()\n",
    "X_train_bow = bow_vectorizer.fit_transform(X_train)\n",
    "X_test_bow = bow_vectorizer.transform(X_test)"
   ]
  },
  {
   "cell_type": "markdown",
   "metadata": {},
   "source": [
    "For this part only, we will test out a variety of different classification algorithms and measure the accuracy that each algorithm produces.  We will select the algorithm that gives the highest accuracy and use that algorithm to build our models for this and the next two feature extraction methods."
   ]
  },
  {
   "cell_type": "code",
   "execution_count": 72,
   "metadata": {},
   "outputs": [
    {
     "name": "stdout",
     "output_type": "stream",
     "text": [
      "GB Accuracy: 0.7122093023255814\n",
      "NB Accuracy: 0.6366279069767442\n",
      "SVC Accuracy: 0.7645348837209303\n",
      "RF Accuracy: 0.6773255813953488\n"
     ]
    }
   ],
   "source": [
    "clf_bow = GradientBoostingClassifier(random_state = rand)\n",
    "clf_bow.fit(X_train_bow, y_train)\n",
    "y_pred_gb_bow = clf_bow.predict(X_test_bow)\n",
    "print(\"GB Accuracy:\", accuracy_score(y_test, y_pred_gb_bow))\n",
    "\n",
    "nb_classifier_bow = MultinomialNB()\n",
    "nb_classifier_bow.fit(X_train_bow, y_train)\n",
    "y_pred_nb_bow = nb_classifier_bow.predict(X_test_bow)\n",
    "print(\"NB Accuracy:\", accuracy_score(y_test, y_pred_nb_bow))\n",
    "\n",
    "svm_classifier_bow = SVC(C=1000) \n",
    "svm_classifier_bow.fit(X_train_bow, y_train)\n",
    "y_pred_svm_bow = svm_classifier_bow.predict(X_test_bow)\n",
    "print(\"SVC Accuracy:\", accuracy_score(y_test, y_pred_svm_bow))\n",
    "\n",
    "rf_classifier_bow = RandomForestClassifier() \n",
    "rf_classifier_bow.fit(X_train_bow, y_train)\n",
    "y_pred_rf_bow = rf_classifier_bow.predict(X_test_bow)\n",
    "print(\"RF Accuracy:\", accuracy_score(y_test, y_pred_rf_bow))"
   ]
  },
  {
   "cell_type": "markdown",
   "metadata": {},
   "source": [
    "The support vector classifier has the highest accuracy at about 76%, so moving forward we will be applying our data to train support vector classifiers.\n",
    "\n",
    "The accuracy results of the support vector classifier on the bag-of-words data is below:"
   ]
  },
  {
   "cell_type": "code",
   "execution_count": 75,
   "metadata": {},
   "outputs": [
    {
     "name": "stdout",
     "output_type": "stream",
     "text": [
      "Training Accuracy: 1.0\n",
      "Testing Accuracy: 0.7645348837209303\n"
     ]
    },
    {
     "data": {
      "image/png": "[encoded data removed]",
      "text/plain": [
       "<Figure size 1200x800 with 2 Axes>"
      ]
     },
     "metadata": {},
     "output_type": "display_data"
    }
   ],
   "source": [
    "class_names = [\"NEGATIVE\", \"NEUTRAL\", \"POSITIVE\"] # hard-coding for now since list(set(y_test)) puts names in wrong order for use in ConfusionMatrixDisplay()\n",
    "accuracy_bow = accuracy_score(y_test, y_pred_svm_bow)\n",
    "print(f\"Training Accuracy: {accuracy_score(y_train, svm_classifier_bow.predict(X_train_bow))}\")\n",
    "print(f\"Testing Accuracy: {accuracy_bow}\")\n",
    "\n",
    "fig, ax = plt.subplots(figsize=(12,8))\n",
    "conf_mat_bow = confusion_matrix(y_test, y_pred_svm_bow)\n",
    "ConfusionMatrixDisplay(conf_mat_bow, display_labels = class_names).plot(ax = ax);"
   ]
  },
  {
   "cell_type": "markdown",
   "metadata": {},
   "source": [
    "## Model 2: TF-IDF Matrix\n",
    "\n",
    "Term Frequency-Inverse Document Frequency (TF-IDF) is a numerical measure used in natural language processing to evaluate the significance of a term within a document in relation to a collection of documents. TF measures the frequency of a term in a specific document, while IDF gauges the rarity of the term across the entire document collection. The TF-IDF score for a term is calculated by multiplying these values, emphasizing terms that are both frequent within a document and uncommon across the entire corpus. \n",
    "\n",
    "First we will create the TF-IDF feature representation,"
   ]
  },
  {
   "cell_type": "code",
   "execution_count": 76,
   "metadata": {},
   "outputs": [],
   "source": [
    "tfidf_vectorizer = TfidfVectorizer()\n",
    "X_train_tfidf = tfidf_vectorizer.fit_transform(X_train)\n",
    "X_test_tfidf = tfidf_vectorizer.transform(X_test)"
   ]
  },
  {
   "cell_type": "markdown",
   "metadata": {},
   "source": [
    "then we will train the support vector classifier model on the features,"
   ]
  },
  {
   "cell_type": "code",
   "execution_count": 77,
   "metadata": {},
   "outputs": [],
   "source": [
    "# clf_tfidf = GradientBoostingClassifier(random_state = rand)\n",
    "clf_tfidf = SVC(C=1000) \n",
    "clf_tfidf.fit(X_train_tfidf, y_train)\n",
    "y_pred_tfidf = clf_tfidf.predict(X_test_tfidf)"
   ]
  },
  {
   "cell_type": "markdown",
   "metadata": {},
   "source": [
    "and then we will output the results."
   ]
  },
  {
   "cell_type": "code",
   "execution_count": 78,
   "metadata": {},
   "outputs": [
    {
     "name": "stdout",
     "output_type": "stream",
     "text": [
      "Training Accuracy: 1.0\n",
      "Testing Accuracy: 0.7122093023255814\n"
     ]
    },
    {
     "data": {
      "image/png": "[encoded data removed]",
      "text/plain": [
       "<Figure size 1200x800 with 2 Axes>"
      ]
     },
     "metadata": {},
     "output_type": "display_data"
    }
   ],
   "source": [
    "accuracy_tfidf = accuracy_score(y_test, y_pred_tfidf)\n",
    "print(f\"Training Accuracy: {accuracy_score(y_train, clf_tfidf.predict(X_train_tfidf))}\")\n",
    "print(f\"Testing Accuracy: {accuracy_tfidf}\")\n",
    "\n",
    "fig, ax = plt.subplots(figsize=(12,8))\n",
    "conf_mat_tfidf = confusion_matrix(y_test, y_pred_tfidf)\n",
    "ConfusionMatrixDisplay(conf_mat_tfidf, display_labels = class_names).plot(ax = ax);"
   ]
  },
  {
   "cell_type": "markdown",
   "metadata": {},
   "source": [
    "## Model 3: Word2Vec \n",
    "\n",
    "Word2Vec is a popular technique in natural language processing (NLP) that is used to represent words as continuous vector embeddings in a high-dimensional space. Word2Vec captures semantic relationships between words by learning distributed representations based on the context in which words appear. \n",
    "\n",
    "First we will create the word2vec feature representation,"
   ]
  },
  {
   "cell_type": "code",
   "execution_count": 79,
   "metadata": {},
   "outputs": [],
   "source": [
    "size = 50\n",
    "\n",
    "# Training Data\n",
    "tokenized_sentences_train = [word_tokenize(sentence) for sentence in X_train]\n",
    "# Initializing Word2Vec object\n",
    "w2v_model = Word2Vec(sentences = tokenized_sentences_train, vector_size = size, window = 5, min_count = 1, workers = 4)\n",
    "X_train_word2vec = []\n",
    "# for loop to get word vector of every word in article and taking average of all word vectors in article to get corresponding sentence vector\n",
    "for tokened_sentence in tokenized_sentences_train:\n",
    "    num_words = len(tokened_sentence)\n",
    "    sentence_vector = np.zeros(size)\n",
    "    for word in tokened_sentence:\n",
    "        try:\n",
    "            word_vector = w2v_model.wv[word]\n",
    "            sentence_vector += word_vector\n",
    "        except:\n",
    "            continue\n",
    "    sentence_vector /= num_words\n",
    "    X_train_word2vec.append(sentence_vector)\n",
    "\n",
    "# Testing Data\n",
    "tokenized_sentences_test = [word_tokenize(sentence) for sentence in X_test]\n",
    "X_test_word2vec = []\n",
    "# for loop to get word vector of every word in article and taking average of all word vectors in article to get corresponding sentence vector\n",
    "for tokened_sentence in tokenized_sentences_test:\n",
    "    num_words = len(tokened_sentence)\n",
    "    sentence_vector = np.zeros(size)\n",
    "    for word in tokened_sentence:\n",
    "        try:\n",
    "            word_vector = w2v_model.wv[word]\n",
    "            sentence_vector += word_vector\n",
    "        except:\n",
    "            continue\n",
    "    sentence_vector /= num_words\n",
    "    X_test_word2vec.append(sentence_vector)"
   ]
  },
  {
   "cell_type": "markdown",
   "metadata": {},
   "source": [
    "then we will train the support vector classifier model on the features,"
   ]
  },
  {
   "cell_type": "code",
   "execution_count": 80,
   "metadata": {},
   "outputs": [],
   "source": [
    "# clf_w2v = GradientBoostingClassifier(random_state = rand)\n",
    "clf_w2v = SVC(C=1000) \n",
    "clf_w2v.fit(X_train_word2vec, y_train)\n",
    "y_pred_w2v = clf_w2v.predict(X_test_word2vec)"
   ]
  },
  {
   "cell_type": "markdown",
   "metadata": {},
   "source": [
    "and then we will output the results."
   ]
  },
  {
   "cell_type": "code",
   "execution_count": 81,
   "metadata": {},
   "outputs": [
    {
     "name": "stdout",
     "output_type": "stream",
     "text": [
      "Training Accuracy: 0.9774381368267832\n",
      "Testing Accuracy: 0.6598837209302325\n"
     ]
    },
    {
     "data": {
      "image/png": "[encoded data removed]",
      "text/plain": [
       "<Figure size 1200x800 with 2 Axes>"
      ]
     },
     "metadata": {},
     "output_type": "display_data"
    }
   ],
   "source": [
    "accuracy_w2v = accuracy_score(y_test, y_pred_w2v)\n",
    "print(f\"Training Accuracy: {accuracy_score(y_train, clf_w2v.predict(X_train_word2vec))}\")\n",
    "print(f\"Testing Accuracy: {accuracy_w2v}\")\n",
    "\n",
    "fig, ax = plt.subplots(figsize=(12,8))\n",
    "conf_mat_w2v = confusion_matrix(y_test, y_pred_w2v)\n",
    "ConfusionMatrixDisplay(conf_mat_w2v, display_labels = class_names).plot(ax = ax);"
   ]
  },
  {
   "cell_type": "markdown",
   "metadata": {},
   "source": [
    "## Analysis\n",
    "\n",
    "The bag-of-words feature extraction method produces the highest accuracy at about 76%.  Furthermore, it also has the most amount of correctly-classified \"POSITIVE\" and \"NEGATIVE\" sentiments at 168 correct classifications (note that I did not include articles correctly classified as \"NEUTRAL\").  For this analysis, we will mainly foculs on the model trained on the bag-of-words feature extraction method since it will be the model we use in the main script and the other two models share similar characteristics to it.\n",
    "\n",
    "We will output the results of the bag-of-words method again:"
   ]
  },
  {
   "cell_type": "code",
   "execution_count": 82,
   "metadata": {},
   "outputs": [
    {
     "data": {
      "image/png": "[encoded data removed]",
      "text/plain": [
       "<Figure size 1200x800 with 2 Axes>"
      ]
     },
     "metadata": {},
     "output_type": "display_data"
    }
   ],
   "source": [
    "fig, ax = plt.subplots(figsize=(12,8))\n",
    "conf_mat_tfidf = confusion_matrix(y_test, y_pred_svm_bow)\n",
    "ConfusionMatrixDisplay(conf_mat_tfidf, display_labels = class_names).plot(ax = ax);"
   ]
  },
  {
   "cell_type": "markdown",
   "metadata": {},
   "source": [
    "When we say that this model is 76% accurate, we are basically saying that 76% of the articles in the testing set were classified EXACTLY correct.  While this is a fair evaluation training metric, it is important to understand what it means when the model predicts the sentiment to be \"POSITIVE\" or \"NEGATIVE\" with the context of the above results.\n",
    "\n",
    "In the model above, out of the $2 + 21 + 84 = 107$ actual \"POSITIVE\" results there were to be classified, the model captured $84$ of them.  This gives us a recall rate of about $\\frac{81}{107} = 78.5\\%$.  However, what this metric does not take into account is that it is significantly worse for \"POSITIVE\" to be misclassified as \"NEGATIVE\" than it is for \"POSITIVE\" to be misclassified as \"NEUTRAL\".  If we look at the misclassification rate of each other class, we get that $\\frac{22}{107} = 19.6\\%$ of \"POSTIVE\" classifications are actually \"NETURAL\", and $\\frac{4}{107} = 1.9\\%$ of \"POSITIVE\" classifications are actually \"NEGATIVE\".  This means that about 78.5% of the time the positive prediction is correct, 19.6% of the time we are mildly incorrect, and only 1.9% of the time we are grossly incorrect.  This is fundamentally different than saying that we predicit the positive class 78.5% of the time and are wrong 21.5% of the time.\n",
    "\n",
    "While I do not recommend looking at it this way, if we assumed that the \"NEUTRAL\" class has a 50% chance of being positive and a 50% chance of being negative, then the neutral misclassifications could be split evenly such that we correctly predict $78.5\\% + 9.8\\% = 88.3\\%$ of positive classes correcly and misclassify $1.9\\% + 9.8\\% = 11.7\\%$ of positive classes as negative.\n",
    "\n",
    "Before finishing the analysis part of the report, we will train the support vector classifer model on all the data to be used in the interface script."
   ]
  },
  {
   "cell_type": "code",
   "execution_count": 83,
   "metadata": {},
   "outputs": [
    {
     "data": {
      "text/html": [
       "<style>#sk-container-id-4 {color: black;background-color: white;}#sk-container-id-4 pre{padding: 0;}#sk-container-id-4 div.sk-toggleable {background-color: white;}#sk-container-id-4 label.sk-toggleable__label {cursor: pointer;display: block;width: 100%;margin-bottom: 0;padding: 0.3em;box-sizing: border-box;text-align: center;}#sk-container-id-4 label.sk-toggleable__label-arrow:before {content: \"▸\";float: left;margin-right: 0.25em;color: #696969;}#sk-container-id-4 label.sk-toggleable__label-arrow:hover:before {color: black;}#sk-container-id-4 div.sk-estimator:hover label.sk-toggleable__label-arrow:before {color: black;}#sk-container-id-4 div.sk-toggleable__content {max-height: 0;max-width: 0;overflow: hidden;text-align: left;background-color: #f0f8ff;}#sk-container-id-4 div.sk-toggleable__content pre {margin: 0.2em;color: black;border-radius: 0.25em;background-color: #f0f8ff;}#sk-container-id-4 input.sk-toggleable__control:checked~div.sk-toggleable__content {max-height: 200px;max-width: 100%;overflow: auto;}#sk-container-id-4 input.sk-toggleable__control:checked~label.sk-toggleable__label-arrow:before {content: \"▾\";}#sk-container-id-4 div.sk-estimator input.sk-toggleable__control:checked~label.sk-toggleable__label {background-color: #d4ebff;}#sk-container-id-4 div.sk-label input.sk-toggleable__control:checked~label.sk-toggleable__label {background-color: #d4ebff;}#sk-container-id-4 input.sk-hidden--visually {border: 0;clip: rect(1px 1px 1px 1px);clip: rect(1px, 1px, 1px, 1px);height: 1px;margin: -1px;overflow: hidden;padding: 0;position: absolute;width: 1px;}#sk-container-id-4 div.sk-estimator {font-family: monospace;background-color: #f0f8ff;border: 1px dotted black;border-radius: 0.25em;box-sizing: border-box;margin-bottom: 0.5em;}#sk-container-id-4 div.sk-estimator:hover {background-color: #d4ebff;}#sk-container-id-4 div.sk-parallel-item::after {content: \"\";width: 100%;border-bottom: 1px solid gray;flex-grow: 1;}#sk-container-id-4 div.sk-label:hover label.sk-toggleable__label {background-color: #d4ebff;}#sk-container-id-4 div.sk-serial::before {content: \"\";position: absolute;border-left: 1px solid gray;box-sizing: border-box;top: 0;bottom: 0;left: 50%;z-index: 0;}#sk-container-id-4 div.sk-serial {display: flex;flex-direction: column;align-items: center;background-color: white;padding-right: 0.2em;padding-left: 0.2em;position: relative;}#sk-container-id-4 div.sk-item {position: relative;z-index: 1;}#sk-container-id-4 div.sk-parallel {display: flex;align-items: stretch;justify-content: center;background-color: white;position: relative;}#sk-container-id-4 div.sk-item::before, #sk-container-id-4 div.sk-parallel-item::before {content: \"\";position: absolute;border-left: 1px solid gray;box-sizing: border-box;top: 0;bottom: 0;left: 50%;z-index: -1;}#sk-container-id-4 div.sk-parallel-item {display: flex;flex-direction: column;z-index: 1;position: relative;background-color: white;}#sk-container-id-4 div.sk-parallel-item:first-child::after {align-self: flex-end;width: 50%;}#sk-container-id-4 div.sk-parallel-item:last-child::after {align-self: flex-start;width: 50%;}#sk-container-id-4 div.sk-parallel-item:only-child::after {width: 0;}#sk-container-id-4 div.sk-dashed-wrapped {border: 1px dashed gray;margin: 0 0.4em 0.5em 0.4em;box-sizing: border-box;padding-bottom: 0.4em;background-color: white;}#sk-container-id-4 div.sk-label label {font-family: monospace;font-weight: bold;display: inline-block;line-height: 1.2em;}#sk-container-id-4 div.sk-label-container {text-align: center;}#sk-container-id-4 div.sk-container {/* jupyter's `normalize.less` sets `[hidden] { display: none; }` but bootstrap.min.css set `[hidden] { display: none !important; }` so we also need the `!important` here to be able to override the default hidden behavior on the sphinx rendered scikit-learn.org. See: https://github.com/scikit-learn/scikit-learn/issues/21755 */display: inline-block !important;position: relative;}#sk-container-id-4 div.sk-text-repr-fallback {display: none;}</style><div id=\"sk-container-id-4\" class=\"sk-top-container\"><div class=\"sk-text-repr-fallback\"><pre>SVC(C=1000)</pre><b>In a Jupyter environment, please rerun this cell to show the HTML representation or trust the notebook. <br />On GitHub, the HTML representation is unable to render, please try loading this page with nbviewer.org.</b></div><div class=\"sk-container\" hidden><div class=\"sk-item\"><div class=\"sk-estimator sk-toggleable\"><input class=\"sk-toggleable__control sk-hidden--visually\" id=\"sk-estimator-id-4\" type=\"checkbox\" checked><label for=\"sk-estimator-id-4\" class=\"sk-toggleable__label sk-toggleable__label-arrow\">SVC</label><div class=\"sk-toggleable__content\"><pre>SVC(C=1000)</pre></div></div></div></div></div>"
      ],
      "text/plain": [
       "SVC(C=1000)"
      ]
     },
     "execution_count": 83,
     "metadata": {},
     "output_type": "execute_result"
    }
   ],
   "source": [
    "bow_vectorizer_final = CountVectorizer()\n",
    "X_bow = bow_vectorizer_final.fit_transform(formatted_text)\n",
    "\n",
    "final_model_bow = SVC(C = 1000)\n",
    "final_model_bow.fit(X_bow, sentimentsOfArticles[\"Sentiments\"])"
   ]
  },
  {
   "cell_type": "markdown",
   "metadata": {},
   "source": [
    "## Graphic User Interface\n",
    "\n",
    "Below is the code for the GUI that we will use.  Some links you can try are:\n",
    "* https://www.investing.com/news/stock-market-news/pro-research-wall-street-takes-a-closer-look-at-qualcomm-3249379\n",
    "* https://www.investing.com/news/stock-market-news/oracle-tumbles-as-tepid-forecast-fans-cloud-growth-concerns-3254658"
   ]
  },
  {
   "cell_type": "code",
   "execution_count": 90,
   "metadata": {},
   "outputs": [],
   "source": [
    "import tkinter as tk\n",
    "import requests\n",
    "from bs4 import BeautifulSoup\n",
    "\n",
    "def get_article_text(link):\n",
    "    response = requests.get(link)\n",
    "    if response.status_code == 200:\n",
    "        soup = BeautifulSoup(response.text, 'html.parser')\n",
    "        article = soup.find('div', class_='WYSIWYG articlePage')\n",
    "        date = soup.find(\"div\", class_ = \"contentSectionDetails\")\n",
    "        # Extracting article text\n",
    "        script = article.find(\"script\")\n",
    "        if script != None:\n",
    "            script.extract()\n",
    "        img_carousel = article.find('div', class_='imgCarousel')\n",
    "        if img_carousel != None:\n",
    "            img_carousel.extract()\n",
    "        related_instruments_wrapper = article.find('div', class_='relatedInstrumentsWrapper')\n",
    "        if related_instruments_wrapper != None:\n",
    "            related_instruments_wrapper.extract()\n",
    "        paragraph = article.find(\"p\")\n",
    "        if paragraph != None:\n",
    "            em = paragraph.find(\"em\")\n",
    "            if em != None:\n",
    "                paragraph.extract()\n",
    "        text_inside_div = article.get_text()\n",
    "        # Extracting article date\n",
    "        cont_sect_det = soup.find_all(\"div\", class_ = \"contentSectionDetails\")\n",
    "        date = cont_sect_det[1].find(\"span\").text\n",
    "        return [text_inside_div.strip(), date[10:-11]]\n",
    "    else:\n",
    "        return [None, None]\n",
    "\n",
    "# Function to input news article and predict sentiment\n",
    "def predict_sentiment():\n",
    "    user_input = text_input.get(\"1.0\", \"end-1c\")  # Get link of news article \n",
    "    if user_input.startswith(\"http\"):\n",
    "        article_text = get_article_text(user_input) # Get article text\n",
    "        article_text = article_text[0]\n",
    "    else:\n",
    "        article_text = user_input\n",
    "    processed_input = string_formatter(article_text)  # Preprocess the article as per the required format\n",
    "    vectorized_input = bow_vectorizer_final.transform([processed_input])  # Vectorize the input\n",
    "    prediction = final_model_bow.predict(vectorized_input)\n",
    "    result_label.config(text=\"Predicted Sentiment: \" + str(prediction[0]))  # Predict Sentiment\n",
    "\n",
    "# Tkinter window\n",
    "root = tk.Tk()\n",
    "root.title(\"Stock News Sentiment Analysis\")\n",
    "\n",
    "# Text input widget\n",
    "text_input = tk.Text(root, height=50, width=70)\n",
    "text_input.pack()\n",
    "\n",
    "# Predict button\n",
    "predict_button = tk.Button(root, text=\"Predict Sentiment\", command=predict_sentiment)\n",
    "predict_button.pack()\n",
    "\n",
    "# Label to display the result\n",
    "result_label = tk.Label(root, text=\"Predicted Sentiment: \")\n",
    "result_label.pack()\n",
    "\n",
    "# Run the application\n",
    "root.mainloop()"
   ]
  },
  {
   "cell_type": "markdown",
   "metadata": {},
   "source": [
    "## Appendix A: Functions Used for Web Scrapping\n",
    "\n",
    "Below are the functions we used in Appendix B.  A quick summary:\n",
    "* get_training_links(pages) goes to https://www.investing.com/news/stock-market-news/X and scraps the news article links from all pages up to the specified amount.\n",
    "* get_article_text(link) takes a link generated by get_training_links(pages) and gets the article text.  This is mainly a helper function for get_article_texts(links, tracker = False).\n",
    "* get_article_texts(links, tracker = False) takes a list of links generated by get_training_links(pages) and uses get_article_text(link) to get the article text from all the inputted links."
   ]
  },
  {
   "cell_type": "code",
   "execution_count": 85,
   "metadata": {},
   "outputs": [],
   "source": [
    "if run_appendix_A:\n",
    "\n",
    "    def get_training_links(pages):\n",
    "\n",
    "        driver = webdriver.Firefox()\n",
    "        links = []\n",
    "\n",
    "        for page in range(1, pages + 1):\n",
    "\n",
    "            url_path = f'https://www.investing.com/news/stock-market-news/{page}'\n",
    "            driver.get(url_path)\n",
    "\n",
    "            left_column = driver.find_element(by=By.ID, value=\"leftColumn\")\n",
    "            article_items = left_column.find_elements(by = By.CLASS_NAME, value = \"articleItem\")\n",
    "            for article in article_items:\n",
    "                try:\n",
    "                    link = article.find_element(by=By.CLASS_NAME, value=\"title\")\n",
    "                    links.append(link.get_attribute(\"href\"))\n",
    "                except:\n",
    "                    continue\n",
    "                \n",
    "        driver.quit()\n",
    "        return links\n",
    "\n",
    "    def get_article_text(link):\n",
    "\n",
    "        response = requests.get(link)\n",
    "\n",
    "        if response.status_code == 200:\n",
    "\n",
    "            soup = BeautifulSoup(response.text, 'html.parser')\n",
    "            article = soup.find('div', class_='WYSIWYG articlePage')\n",
    "            date = soup.find(\"div\", class_ = \"contentSectionDetails\")\n",
    "\n",
    "            # Extracting article text\n",
    "            script = article.find(\"script\")\n",
    "            if script != None:\n",
    "                script.extract()\n",
    "            img_carousel = article.find('div', class_='imgCarousel')\n",
    "            if img_carousel != None:\n",
    "                img_carousel.extract()\n",
    "            related_instruments_wrapper = article.find('div', class_='relatedInstrumentsWrapper')\n",
    "            if related_instruments_wrapper != None:\n",
    "                related_instruments_wrapper.extract()\n",
    "            paragraph = article.find(\"p\")\n",
    "            if paragraph != None:\n",
    "                em = paragraph.find(\"em\")\n",
    "                if em != None:\n",
    "                    paragraph.extract()\n",
    "            text_inside_div = article.get_text()\n",
    "            \n",
    "            # Extracting article date\n",
    "            cont_sect_det = soup.find_all(\"div\", class_ = \"contentSectionDetails\")\n",
    "            date = cont_sect_det[1].find(\"span\").text\n",
    "            \n",
    "            return [text_inside_div.strip(), date[10:-11]]\n",
    "        \n",
    "        else:\n",
    "            return [None, None]\n",
    "        \n",
    "    def get_article_texts(links, tracker = False):\n",
    "        results = []\n",
    "        for i, link in enumerate(links):\n",
    "            results.append(get_article_text(link))\n",
    "            if tracker:\n",
    "                print(i + 1, \"/\", len(links))\n",
    "        return results\n",
    "\n",
    "    "
   ]
  },
  {
   "cell_type": "markdown",
   "metadata": {},
   "source": [
    "## Appendix B: Scrapping the Training Data"
   ]
  },
  {
   "cell_type": "code",
   "execution_count": 86,
   "metadata": {},
   "outputs": [],
   "source": [
    "if run_appendix_B:\n",
    "    from selenium import webdriver\n",
    "    from selenium.webdriver.common.by import By\n",
    "    import requests\n",
    "    from bs4 import BeautifulSoup\n",
    "    import time\n",
    "    import numpy as np\n",
    "    import pandas as pd\n",
    "\n",
    "    training_links = get_training_links(100)\n",
    "    print(\"Number of Articles:\", len(training_links))\n",
    "\n",
    "    training_text = get_article_texts(training_links, tracker=False)\n",
    "    training_text = np.array(training_text)\n",
    "\n",
    "    text_data_dict = {\n",
    "        \"Link\": training_links,\n",
    "        \"Date\": training_text[:,1],\n",
    "        \"Text\": training_text[:,0]\n",
    "    }\n",
    "    text_data = pd.DataFrame(text_data_dict)\n",
    "    display(text_data.head())\n",
    "    text_data.to_json(\"trainingArticles.json\")"
   ]
  },
  {
   "cell_type": "markdown",
   "metadata": {},
   "source": [
    "## Appendix C: Generating Ground Truths"
   ]
  },
  {
   "cell_type": "code",
   "execution_count": 87,
   "metadata": {},
   "outputs": [],
   "source": [
    "if run_appendix_C:\n",
    "    import pandas as pd\n",
    "    from nltk.sentiment import SentimentIntensityAnalyzer\n",
    "\n",
    "    trainingArticles = pd.read_json(\"trainingArticles.json\")\n",
    "    sentences = trainingArticles[\"Text\"]\n",
    "\n",
    "    sid = SentimentIntensityAnalyzer()\n",
    "    sentiments = []\n",
    "    for sentence in sentences:\n",
    "        sentiment_scores = sid.polarity_scores(sentence)\n",
    "        if sentiment_scores['compound'] >= 0.99:\n",
    "            sentiments.append(\"POSITIVE\")\n",
    "        elif sentiment_scores['compound'] <= 0.90:\n",
    "            sentiments.append(\"NEGATIVE\")\n",
    "        else:\n",
    "            sentiments.append(\"NEUTRAL\")\n",
    "\n",
    "    sentiments_dict = {\n",
    "        \"Sentiments\": sentiments\n",
    "    }\n",
    "    sentiments_df = pd.DataFrame(sentiments_dict)\n",
    "    sentiments_df.to_json(\"sentiments.json\")"
   ]
  },
  {
   "cell_type": "markdown",
   "metadata": {},
   "source": [
    "## Appendix D: Formatting the Data"
   ]
  },
  {
   "cell_type": "code",
   "execution_count": 88,
   "metadata": {},
   "outputs": [],
   "source": [
    "if run_appendix_D:\n",
    "    import pandas as pd\n",
    "    from nltk.corpus import stopwords, wordnet\n",
    "    from collections import Counter\n",
    "\n",
    "    trainingArticles = pd.read_json(\"trainingArticles.json\")\n",
    "    sentiments = pd.read_json(\"sentiments.json\")\n",
    "    sentiment_of_articles = pd.concat([trainingArticles, sentiments], axis=1)\n",
    "    sentiment_of_articles.to_json(\"sentimentsOfArticles.json\")"
   ]
  }
 ],
 "metadata": {
  "kernelspec": {
   "display_name": "CSCN8010_classic_ml",
   "language": "python",
   "name": "python3"
  },
  "language_info": {
   "codemirror_mode": {
    "name": "ipython",
    "version": 3
   },
   "file_extension": ".py",
   "mimetype": "text/x-python",
   "name": "python",
   "nbconvert_exporter": "python",
   "pygments_lexer": "ipython3",
   "version": "3.11.7"
  }
 },
 "nbformat": 4,
 "nbformat_minor": 2
}
